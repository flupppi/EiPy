{
 "cells": [
  {
   "cell_type": "code",
   "execution_count": null,
   "id": "d6bec366d36a70e4",
   "metadata": {},
   "outputs": [],
   "source": [
    "#| default_exp netana_L03\n"
   ]
  },
  {
   "cell_type": "code",
   "execution_count": null,
   "id": "ced6ffef79452033",
   "metadata": {},
   "outputs": [],
   "source": [
    "from __future__ import annotations\n",
    "\n",
    "#| hide\n",
    "from nbdev.showdoc import *"
   ]
  },
  {
   "cell_type": "markdown",
   "id": "725817072e331e1d",
   "metadata": {},
   "source": [
    "\n",
    "# Assignment 5\n",
    "\n",
    "\n",
    "## Exercise 1\n",
    "Perform link clustering as described in the lecture on the following graph\n",
    "\n",
    "**To provide a solution to the exercise:**\\\n",
    "Provide the clustering of the links and the weighted clustering of the nodes.\n"
   ]
  },
  {
   "cell_type": "markdown",
   "id": "e204a6624469300b",
   "metadata": {},
   "source": [
    "Clustering Values for Nodes:\n",
    "\n",
    "Write down link clustering formula here\n",
    "\n",
    "determine how link clustering formula can be used to calculate the clustering of the links and what the result of this would be\n",
    "\n",
    "Determine what the weighted clustering of the nodes would be.\n",
    "\n",
    "We have to see what kind of formula this actually is then and how it plays out for us to then be able to do this by hand for all of these nodes.\n",
    "\n",
    "1) 2.0\n",
    "2) 3.0\n",
    "3) 40\n",
    "4) 50\n",
    "5) 30\n",
    "6) 300\n",
    "7) 40\n",
    "8) 40\n",
    "9) 50\n",
    "10) 303\n",
    "11) 5003\n",
    "12) 4005\n",
    "13) 2000"
   ]
  },
  {
   "cell_type": "markdown",
   "id": "2be3885d6b49e3e8",
   "metadata": {},
   "source": [
    "## Exercise 2\n",
    "Run the percolation on a square grid to test the statements from the lecture. Use grids of size 10x10, 50x50, 100x100 and ten values ${p: p \\in [0, 1)}$. Repeat each experiment twice.\n",
    "\n"
   ]
  },
  {
   "cell_type": "markdown",
   "id": "51494d6710a68459",
   "metadata": {},
   "source": [
    "**To provide a solution to the exercise:**\n",
    "Report your findings regarding the average cluster size and the largest cluster size.\n"
   ]
  },
  {
   "cell_type": "code",
   "execution_count": null,
   "id": "dc4abee8871a001d",
   "metadata": {},
   "outputs": [],
   "source": [
    "from typing import List\n",
    "\n",
    "def square_grid(size:int =10):\n",
    "    pass\n",
    "\n",
    "def p(seed: int = 42)-> List[float]:\n",
    "    pass\n",
    "\n",
    "def percolate(grid, p: List[int]):\n",
    "    pass\n",
    "\n",
    "small_grid = square_grid(10)\n",
    "medium_grid = square_grid(50)\n",
    "large_grid = square_grid(100)\n",
    "\n",
    "p1 = p()\n",
    "p2 = p(10)\n",
    "\n",
    "percolate(small_grid, p1)\n",
    "percolate(small_grid, p2)\n",
    "percolate(medium_grid, p1)\n",
    "percolate(medium_grid, p2)\n",
    "percolate(large_grid, p1)\n",
    "percolate(large_grid, p2)\n",
    "\n",
    "\n"
   ]
  },
  {
   "cell_type": "markdown",
   "id": "d3f4731bfa0950bd",
   "metadata": {},
   "source": [
    "## Exercise 3: Robustness\n",
    "Experiment with the robustness of networks from two classes. Choose generator classes freely from the ones seen in the lecture (e.g. random graph model, configuration model, Watts-Strogatz,...) or further classes from literature or the software you are using.\n",
    "1) Generate two networks of different size for each of the two classes randomly.\n",
    "2) Run two strategies for each network:\n",
    "    1) Randomly remove nodes and\n",
    "    2) Randomly remove edges until there is no connected component left that is larger than 10% of the network size (#nodes).\n",
    "3) Report the changes of the number of connected components and the size of the largest component over the course of the removals (e.g. via a diagram).\n",
    "4) Report the changes in the average shortest path lengths over the course of the removals (e.g. via a diagram).\n",
    "5) Report your insights: Are there specific patterns you can see in the results, are there differences between the classes or graphs?"
   ]
  },
  {
   "cell_type": "code",
   "execution_count": null,
   "id": "13b25493df161a0e",
   "metadata": {},
   "outputs": [],
   "source": [
    "# choose a generator class maybe one provided by graph-tool?\n",
    "def gen_graph():\n",
    "    pass\n",
    "# generate two networks per class\n",
    "g1_1 = gen_graph()\n",
    "g1_2 = gen_graph()\n",
    "\n",
    "g2_1 = gen_graph()\n",
    "g2_2 = gen_graph()\n",
    "\n",
    "# two strategies for each network\n",
    "def randomly_remove_nodes(g):\n",
    "    pass\n",
    "\n",
    "def randomly_remove_edges(g):\n",
    "    pass\n",
    "\n",
    "# report changes\n",
    "def report_changes():\n",
    "    pass\n",
    "\n",
    "\n",
    "\n"
   ]
  },
  {
   "cell_type": "markdown",
   "id": "c05f5887-c035-4085-9d7e-49144282283e",
   "metadata": {},
   "source": [
    "Report insights"
   ]
  },
  {
   "cell_type": "code",
   "execution_count": null,
   "id": "b8814d1f37e5c1e9",
   "metadata": {},
   "outputs": [],
   "source": [
    "\n",
    "#| hide\n",
    "import nbdev;"
   ]
  },
  {
   "cell_type": "code",
   "execution_count": null,
   "id": "initial_id",
   "metadata": {},
   "outputs": [],
   "source": [
    "\n",
    "nbdev.nbdev_export()"
   ]
  },
  {
   "cell_type": "code",
   "execution_count": null,
   "id": "3d5a5ea1616356b6",
   "metadata": {},
   "outputs": [],
   "source": []
  }
 ],
 "metadata": {
  "kernelspec": {
   "display_name": "python3",
   "language": "python",
   "name": "python3"
  }
 },
 "nbformat": 4,
 "nbformat_minor": 5
}
