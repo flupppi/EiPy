{
 "cells": [
  {
   "cell_type": "code",
   "execution_count": null,
   "id": "6996fac45ed51d11",
   "metadata": {},
   "outputs": [],
   "source": "#| default_exp netana_L01"
  },
  {
   "cell_type": "code",
   "execution_count": null,
   "id": "initial_id",
   "metadata": {},
   "outputs": [],
   "source": [
    "\n",
    "#| hide\n",
    "from nbdev.showdoc import *"
   ]
  },
  {
   "cell_type": "markdown",
   "id": "d62d92029a691bee",
   "metadata": {},
   "source": [
    "# Lecture 01\n",
    "I think I am too stupid for this lecture. And since i want to convince myself otherwise I am starting from the beginning again, going through all the slides from the beginning again and creating the most comprehensive notes on these topics that I can come up with. I will Structure this lecture wise, but trying to keep the topics together.\n",
    "\n",
    "The Goal of this and the following documents will be to give a comprehensive overview for myself on the topic capture all the relevant formulas and terminology and definitions that are needed for general understanding.\n",
    "\n",
    "Also having this knowledge available when I need to apply this in the exam and any other areas where I might come back to this topic in the future.\n",
    "\n",
    "\n",
    "\n",
    "The first Lecture gives a first introduction and a broad overview about the applications this Lecture is useful for. He describes types of networks, like social, technological, biological, etc.\n",
    "\n",
    "Also a brief introduction into the core terminology of Network Analysis.\n"
   ]
  },
  {
   "cell_type": "markdown",
   "id": "424d6805922cbb6",
   "metadata": {},
   "source": [
    "\n",
    "## Networks\n",
    "What are networks, so all the fundamentals one might want to know about networks.\n"
   ]
  },
  {
   "cell_type": "markdown",
   "id": "bad666b45860a83e",
   "metadata": {},
   "source": [
    "\n",
    "\n",
    "## Networks in the News\n",
    "Here we collect a number of sources where you find Networks be relevant to in the wild.\n",
    "So real-world incidents where we as network analysts could have something to say about what happened and what can be observed there and why.\n",
    "He collects some of these for us but it might be fun to be on the lookout when looking at the news ourselves."
   ]
  },
  {
   "cell_type": "markdown",
   "id": "f1a29a661fe9424c",
   "metadata": {},
   "source": [
    "\n",
    "\n",
    "## Applications of Networks\n",
    "Some areas where networks are relevant. These are described in great detail in the Newman Book, so for more info we can also look there he just uses Criminalistics and Biological networks as some of his examples when talking about networks.\n",
    "So knowing about these application areas is predominantly important because it gives us the chance to actually understand the examples better and relate to why some of the metrics are important.\n",
    "\n"
   ]
  },
  {
   "cell_type": "markdown",
   "id": "6e7d86605b28e746",
   "metadata": {},
   "source": [
    "# Cheat Sheet\n",
    "For the topics of each lecture I also want to create a cheat sheet with the most important terminology and Formulas. Just to keep track of what i definately need to know 100 percent for sure.\n",
    "\n",
    "* $G=(V, E)$\n",
    "* $A$ = Adjacency Matrix\n",
    "* $k$ = node degree\n",
    "*\n"
   ]
  },
  {
   "cell_type": "code",
   "execution_count": null,
   "id": "fbb2fb22093c49e4",
   "metadata": {},
   "outputs": [],
   "source": [
    "#| hide\n",
    "import nbdev; nbdev.nbdev_export()"
   ]
  }
 ],
 "metadata": {
  "kernelspec": {
   "display_name": "python3",
   "language": "python",
   "name": "python3"
  }
 },
 "nbformat": 4,
 "nbformat_minor": 5
}
