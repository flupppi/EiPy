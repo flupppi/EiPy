{
 "cells": [
  {
   "cell_type": "code",
   "execution_count": null,
   "id": "d3b40cd5c3b53e11",
   "metadata": {},
   "outputs": [],
   "source": "#| default_exp netana_L03"
  },
  {
   "cell_type": "code",
   "execution_count": null,
   "id": "e6a27d2f47f4acf4",
   "metadata": {},
   "outputs": [],
   "source": [
    "\n",
    "#| hide\n",
    "from nbdev.showdoc import *"
   ]
  },
  {
   "cell_type": "markdown",
   "id": "d4cacbf6395b5685",
   "metadata": {},
   "source": "# Lecture 03"
  },
  {
   "cell_type": "code",
   "execution_count": null,
   "id": "433a3cabee95a62f",
   "metadata": {},
   "outputs": [],
   "source": [
    "\n",
    "#| hide\n",
    "import nbdev;\n",
    "\n",
    "nbdev.nbdev_export()"
   ]
  }
 ],
 "metadata": {},
 "nbformat": 5,
 "nbformat_minor": 9
}
