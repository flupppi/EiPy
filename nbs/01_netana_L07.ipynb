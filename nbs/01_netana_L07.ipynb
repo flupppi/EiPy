{
 "cells": [
  {
   "cell_type": "code",
   "execution_count": null,
   "id": "968d468803c60b96",
   "metadata": {},
   "outputs": [],
   "source": "#| default_exp netana_L07"
  },
  {
   "cell_type": "code",
   "execution_count": null,
   "id": "b44d5fad4f64b642",
   "metadata": {},
   "outputs": [],
   "source": [
    "from graph_tool import Graph\n",
    "#| hide\n",
    "from nbdev.showdoc import *"
   ]
  },
  {
   "cell_type": "markdown",
   "id": "d964d96884230a3d",
   "metadata": {},
   "source": [
    "# Lecture 07\n",
    "> Communities, Clusters, Motifs\n",
    "\n",
    "---\n",
    "* Community finding\n",
    "* Modularity\n",
    "* Clustering\n"
   ]
  },
  {
   "cell_type": "code",
   "execution_count": null,
   "id": "66efc0bbccc3098c",
   "metadata": {},
   "outputs": [],
   "source": [
    "import numpy as np\n",
    "from graph_tool import Graph"
   ]
  },
  {
   "cell_type": "code",
   "execution_count": null,
   "id": "d1e3e47c9e015642",
   "metadata": {},
   "outputs": [],
   "source": [
    "\n",
    "# L is Laplacian Matrix\n",
    "# D is Diagonal Degree Matrix\n",
    "\n"
   ]
  },
  {
   "cell_type": "markdown",
   "id": "1a4400c703d4f7d8",
   "metadata": {},
   "source": [
    "* What is KL-Partitioning?\n",
    "\n",
    "## Community\n",
    "\n",
    "So basically in the last lecture we talked about network partitioning which separated a network into $K$ equal size parts while minimizing the cut size.\n",
    "\n",
    "The question that is now obvious is what happens if we don't want balanced partitions because it wouldn't represent the structure in our network well.\n",
    "\n",
    "Partitioning forces a structure upon our network that might or might not be there essentially. But we would rather want to find out what the internal grouping structure of a network, without making assumptions about it beforehand.\n",
    "\n",
    "This is where **community detection** comes in. A community is a group of nodes that is formed by mutual adjacency, proximity or reachability. It suggests the presence of real-world interaction for a common purpose.\n",
    "\n",
    "Nodes in a community are more likely to connect to each other than to nodes form other communities.\n",
    "\n",
    "Our goal here will be to find algorithms that can detect the presence and the size and type of each of these communities in our network.\n",
    "\n",
    "#### What is a Community? How is it defined?\n",
    "Something about the nodes knowing each other. And something about the internal-degree having to be larger than the external-degree. So basically a clique, so a network where everyone knows everyone is a community. It even is a strong community because exactly everyone knows everyone. There can also be a community in a less \"optimal\" network. So there is a concept of strong and weak communities, depending on the degree of everyone in the group knowing everyone else in the group.\n",
    "#### Community Detection\n",
    "Beyond the term Community there is also a mayor problem of detecting communities in networks. This is not easy and not every network does necessarily have a community. So algorithms have to be able to detect them if they are there but also be able to say that the arent. It seems like there are two mayor methods. They are handeled in two subsections, namely Modularity and Divisive, which seem to be just two different methods for doing this.\n",
    "#### How does the Modularity Method for community detection work?\n",
    "\n",
    "#### How does the Divisive Method for community detection work?\n",
    "\n",
    "* What is the process of finding communities in network data?\n",
    "\n",
    "* What is modularity? How is it defined?"
   ]
  },
  {
   "cell_type": "code",
   "execution_count": null,
   "id": "bff0f4b228c82ebe",
   "metadata": {},
   "outputs": [],
   "source": [
    "# What kind of code can we write about community detection? We can probably load any graph and check if there is a community present in it and then get the characteristic metrics for these communities that we can then report on.\n",
    "\n",
    "def find_community(graph: Graph):\n",
    "    return {}\n",
    "\n",
    "def report_communities(communities):\n",
    "    pass"
   ]
  },
  {
   "cell_type": "code",
   "execution_count": null,
   "id": "d5914dac156dcd9c",
   "metadata": {},
   "outputs": [],
   "source": [
    "\n",
    "G = Graph()\n",
    "\n",
    "community = find_community(G) # so something like this could be interesting.\n",
    "report_communities(community) # And then using this community data structure we could maybe report on it.\n",
    "# Now i definately don't know if this works this way, at least a good guess is that something exists here that we can report on and that we can acutally do in code and probably also usign functions that are already implemented either in graph_tool or networkx.\n",
    "\n"
   ]
  },
  {
   "cell_type": "markdown",
   "id": "e1fdc88f0976f695",
   "metadata": {},
   "source": [
    "## Clustering\n",
    "\n",
    "What are the main Formulas from the slides to each of these topics?\n",
    "\n",
    "Lets compile first a list of topics that have been Talked about until now. I will put this on the index page where we link to the different notebooks and then i will look through the slides for different topic headings and put them into a relation that makes sense and then find for each of them one or two improtant formulas and write them down.\n",
    "\n",
    "\n",
    "#### What is Louvrain\n",
    "Louvrain Community Detection algorithm\n",
    "\n",
    "#### What is Leiden\n",
    "Leiden Community Detection algorithm\n",
    "\n",
    "extracting the community structure of a network based on modularity optimization.\n",
    "\n",
    "Guarantees that communities are well connected\n",
    "it is faster\n",
    "it uncovers better partitions\n",
    "\n",
    "* What is a cluster? How is it defined?\n",
    "I think clustering is a whole nother problem again. I could read up on it if there is a similarity or connection between a cluster and a community.\n",
    "\n",
    "\n",
    "\n",
    "* What is a motif? How is it defined?\n",
    "I think motif is not part of this lecture maybe the next one, at least i didn't see the word anywhere unitl now.\n",
    "\n",
    "* I need to get a handle of the formulas, not only to memorize them but to get a pattern recognition working for me, so i can find things again and again. Currently i am only pattern matching. Probably also because the slides dont seem to follow an understandable order. I should rather read the books but i also want to get what he tells us on the slides."
   ]
  },
  {
   "cell_type": "code",
   "execution_count": null,
   "id": "9539c1ea02fc989b",
   "metadata": {},
   "outputs": [],
   "source": [
    "#| hide\n",
    "import nbdev; nbdev.nbdev_export()"
   ]
  },
  {
   "cell_type": "code",
   "execution_count": null,
   "id": "2370dcbf5ed234e8",
   "metadata": {},
   "outputs": [],
   "source": ""
  }
 ],
 "metadata": {
  "kernelspec": {
   "display_name": "python3",
   "language": "python",
   "name": "python3"
  }
 },
 "nbformat": 5,
 "nbformat_minor": 9
}
