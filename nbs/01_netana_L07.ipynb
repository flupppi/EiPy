{
 "cells": [
  {
   "cell_type": "code",
   "execution_count": null,
   "id": "968d468803c60b96",
   "metadata": {},
   "outputs": [],
   "source": "#| default_exp netana_L07"
  },
  {
   "cell_type": "code",
   "execution_count": null,
   "id": "b44d5fad4f64b642",
   "metadata": {},
   "outputs": [],
   "source": [
    "from graph_tool import Graph\n",
    "#| hide\n",
    "from nbdev.showdoc import *"
   ]
  },
  {
   "cell_type": "markdown",
   "id": "d964d96884230a3d",
   "metadata": {},
   "source": [
    "# Lecture 7 - Communities, Clusters, Motifs\n",
    "* KL finish\n",
    "* Community finding\n",
    "* Modularity\n",
    "* Clustering\n",
    "\n",
    "## Partitioning KL\n",
    "\n",
    "$$R = \\frac{1}{4}\\sum_{i,j}A_{i,j}(1-s_i s_j)$$\n",
    "\n",
    "With $\\sum_{i,j}A_{ij}=\\sum_i k_i = \\sum_i k_i = \\sum_i k_i s_i^2 = \\sum_{i,j} k_i \\delta_{ij}s_i s_j$ with $k_i$ degree and $\\delta_{ij}$ Kronecker delta (1 if equal). But then $R = \\frac{1}{4}\\sum_{i,j}(k_i \\delta_{ij} - A_{ij})s_i s_j$ by substituting in above formula, thus $R = \\frac{1}{4}\\sum L_{ij} s_i s_j$ where $L$ is the Laplacian matrix $L = D - A$, $D$ diagonal degree matrix.\n",
    "\n",
    "$$L = $$"
   ]
  },
  {
   "cell_type": "code",
   "execution_count": null,
   "id": "66efc0bbccc3098c",
   "metadata": {},
   "outputs": [],
   "source": [
    "import numpy as np\n",
    "from graph_tool import Graph"
   ]
  },
  {
   "cell_type": "code",
   "execution_count": null,
   "id": "d1e3e47c9e015642",
   "metadata": {},
   "outputs": [],
   "source": [
    "\n",
    "# L is Laplacian Matrix\n",
    "# D is Diagonal Degree Matrix\n",
    "\n"
   ]
  },
  {
   "cell_type": "markdown",
   "id": "1a4400c703d4f7d8",
   "metadata": {},
   "source": [
    "* What is KL-Partitioning?\n",
    "\n",
    "## Community\n",
    "#### What is a Community? How is it defined?\n",
    "Something about the nodes knowing each other. And something about the internal-degree having to be larger than the external-degree. So basically a clique, so a network where everyone knows everyone is a community. It even is a strong community because exactly everyone knows everyone. There can also be a community in a less \"optimal\" network. So there is a concept of strong and weak communities, depending on the degree of everyone in the group knowing everyone else in the group.\n",
    "#### Community Detection\n",
    "Beyond the term Community there is also a mayor problem of detecting communities in networks. This is not easy and not every network does necessarily have a community. So algorithms have to be able to detect them if they are there but also be able to say that the arent. It seems like there are two mayor methods. They are handeled in two subsections, namely Modularity and Divisive, which seem to be just two different methods for doing this.\n",
    "#### How does the Modularity Method for community detection work?\n",
    "\n",
    "#### How does the Divisive Method for community detection work?\n",
    "\n",
    "* What is the process of finding communities in network data?\n",
    "\n",
    "* What is modularity? How is it defined?"
   ]
  },
  {
   "cell_type": "code",
   "execution_count": null,
   "id": "bff0f4b228c82ebe",
   "metadata": {},
   "outputs": [],
   "source": [
    "# What kind of code can we write about community detection? We can probably load any graph and check if there is a community present in it and then get the characteristic metrics for these communities that we can then report on.\n",
    "\n",
    "def find_community(graph: Graph):\n",
    "    return {}\n",
    "\n",
    "def report_communities(communities):\n",
    "    pass"
   ]
  },
  {
   "cell_type": "code",
   "execution_count": null,
   "id": "d5914dac156dcd9c",
   "metadata": {},
   "outputs": [],
   "source": [
    "\n",
    "G = Graph()\n",
    "\n",
    "community = find_community(G) # so something like this could be interesting.\n",
    "report_communities(community) # And then using this community data structure we could maybe report on it.\n",
    "# Now i definately don't know if this works this way, at least a good guess is that something exists here that we can report on and that we can acutally do in code and probably also usign functions that are already implemented either in graph_tool or networkx.\n",
    "\n"
   ]
  },
  {
   "cell_type": "markdown",
   "id": "e1fdc88f0976f695",
   "metadata": {},
   "source": [
    "\n",
    "* What is a cluster? How is it defined?\n",
    "I think clustering is a whole nother problem again. I could read up on it if there is a similarity or connection between a cluster and a community.\n",
    "\n",
    "\n",
    "\n",
    "* What is a motif? How is it defined?\n",
    "I think motif is not part of this lecture maybe the next one, at least i didn't see the word anywhere unitl now.\n",
    "\n",
    "* I need to get a handle of the formulas, not only to memorize them but to get a pattern recognition working for me, so i can find things again and again. Currently i am only pattern matching. Probably also because the slides dont seem to follow an understandable order. I should rather read the books but i also want to get what he tells us on the slides."
   ]
  },
  {
   "cell_type": "code",
   "execution_count": null,
   "id": "9539c1ea02fc989b",
   "metadata": {},
   "outputs": [],
   "source": [
    "#| hide\n",
    "import nbdev; nbdev.nbdev_export()"
   ]
  }
 ],
 "metadata": {
  "kernelspec": {
   "display_name": "python3",
   "language": "python",
   "name": "python3"
  }
 },
 "nbformat": 5,
 "nbformat_minor": 9
}
