{
 "cells": [
  {
   "cell_type": "code",
   "execution_count": null,
   "id": "568e580b9531c483",
   "metadata": {},
   "outputs": [],
   "source": "#| default_exp netana_L05"
  },
  {
   "cell_type": "code",
   "execution_count": null,
   "id": "890a3de387d5ca6a",
   "metadata": {},
   "outputs": [],
   "source": [
    "\n",
    "#| hide\n",
    "from nbdev.showdoc import *"
   ]
  },
  {
   "cell_type": "markdown",
   "id": "7a4a1c004c806768",
   "metadata": {},
   "source": [
    "# Lecture 05\n",
    "\n",
    "I think here we talked about the Giant Component\n",
    "\n",
    "Maybe also rich club?\n",
    "\n",
    "I think one action that i could do that i could benefit from is deduplicating the slides. Take out the stupid steps from the slides that add no benefit."
   ]
  },
  {
   "cell_type": "code",
   "execution_count": null,
   "id": "42c3feb29a119980",
   "metadata": {},
   "outputs": [],
   "source": [
    "\n",
    "#| hide\n",
    "import nbdev;\n",
    "\n",
    "nbdev.nbdev_export()"
   ]
  }
 ],
 "metadata": {},
 "nbformat": 5,
 "nbformat_minor": 9
}
