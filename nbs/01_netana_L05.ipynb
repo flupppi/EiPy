{
 "cells": [
  {
   "cell_type": "code",
   "execution_count": null,
   "id": "42c3feb29a119980",
   "metadata": {},
   "outputs": [],
   "source": [
    "#| default_exp netana_L05\n",
    "\n",
    "#| hide\n",
    "from nbdev.showdoc import *\n",
    "#| hide\n",
    "import nbdev;\n",
    "\n",
    "nbdev.nbdev_export()"
   ]
  }
 ],
 "metadata": {},
 "nbformat": 5,
 "nbformat_minor": 9
}
