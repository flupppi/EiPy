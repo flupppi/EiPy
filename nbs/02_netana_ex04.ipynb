{
 "cells": [
  {
   "cell_type": "code",
   "execution_count": null,
   "id": "80f305f3d1244e4f",
   "metadata": {},
   "outputs": [],
   "source": "#| default_exp netana_ex04"
  },
  {
   "cell_type": "code",
   "execution_count": null,
   "id": "caa4153af1da6a07",
   "metadata": {},
   "outputs": [],
   "source": [
    "\n",
    "#| hide\n",
    "from nbdev.showdoc import *"
   ]
  },
  {
   "cell_type": "markdown",
   "id": "5e9ce7bc05e022b2",
   "metadata": {},
   "source": [
    "# Assignment 4\n",
    "## Exercise 1\n",
    "(2 points)\n",
    "* Execute the Kernighan-Lin partitioning variant as given in the lecture in\n",
    "the following network, where the starting partitions are given by the colours.\n",
    "* Try to find a starting partition that changes the outcome. Either provide it with the changed outcome or try to explain why it is not possible."
   ]
  },
  {
   "cell_type": "markdown",
   "id": "57328a04d6eecfe9",
   "metadata": {},
   "source": [
    "**To provide a solution to the exercise:**\n",
    "Provide the D values for each step and the maximum gain for the selection of the swap. Indicate the change of partitions from the swaps (preferred: visually), including the selected nodes, as well as the fixed nodes in each step. List the cut costs for each step and the selected prefix of swaps, too. Provide a starting partition or argument."
   ]
  },
  {
   "cell_type": "markdown",
   "id": "e638a29c59b88406",
   "metadata": {},
   "source": "#### How is the Kernighan-Lin partitioning variant described in the lecture?\n"
  },
  {
   "cell_type": "code",
   "execution_count": null,
   "id": "1cf579eb8fbe7799",
   "metadata": {},
   "outputs": [],
   "source": ""
  },
  {
   "cell_type": "code",
   "execution_count": null,
   "id": "ffb9ab3cd142c21d",
   "metadata": {},
   "outputs": [],
   "source": ""
  },
  {
   "cell_type": "markdown",
   "id": "d9a54e58549c9e67",
   "metadata": {},
   "source": [
    "## Exercise 2 Modularity\n",
    "(3 points)\n",
    "* Experiment with modularity optimisation in your favorite software. Calculate\n",
    "modularity values (e.g. in networkx) for the “non-intuitive” example networks given in the lecture.\n",
    "*  Optimise modularity for the following graph consisting of a ring of same-size cliques and neighbouring cliques connected via a single link. Determine the modularity of a clustering in which each clique is its own cluster, and of the clustering where two neighbouring cliques are forming a cluster.\n",
    "* Proof that a clustering with optimal modularity has no cluster with a single node of\n",
    "degree 1.\n",
    "*  Extra(not mandatory): Given a line graph, a path of N nodes. Show that if we divide the network into two parts by cutting a line, with r and N-r nodes each part, then the modularity is $$\\frac{3 − 4𝑛 + 4𝑟𝑛 − 4𝑟^2}{2(𝑛 − 1)^2}$$\n",
    "Hence show that if N is even, the optimal division for modularity is splitting the graph exactly in the middle."
   ]
  },
  {
   "cell_type": "markdown",
   "id": "d59d0988e0736cd0",
   "metadata": {},
   "source": [
    "\n",
    "**To provide a solution to the exercise:**\n",
    "Provide the modularity values (a), the best modularity optimising community structure you can find (b) drawing, argument, and the proof(s)."
   ]
  },
  {
   "cell_type": "code",
   "execution_count": null,
   "id": "8cafbfa1bc7073c",
   "metadata": {},
   "outputs": [],
   "source": ""
  },
  {
   "cell_type": "markdown",
   "id": "7f31a1f6dfbc6566",
   "metadata": {},
   "source": [
    "## Exercise 3\n",
    "(2 points)\n",
    "* Consider the following small network\n",
    "To provide a solution to the exercise:\n",
    "Calculate for each of the 10 pairs of nodes the cosine similarity. Based on the values,\n",
    "construct the dendrogram for the single-linkage hierarchical clustering of the network."
   ]
  },
  {
   "cell_type": "code",
   "execution_count": null,
   "id": "87803d455b980aae",
   "metadata": {},
   "outputs": [],
   "source": [
    "\n",
    "#| hide\n",
    "import nbdev;nbdev.nbdev_export()"
   ]
  }
 ],
 "metadata": {
  "kernelspec": {
   "display_name": "python3",
   "language": "python",
   "name": "python3"
  }
 },
 "nbformat": 5,
 "nbformat_minor": 9
}
