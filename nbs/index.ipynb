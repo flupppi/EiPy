{
 "cells": [
  {
   "cell_type": "raw",
   "metadata": {},
   "source": [
    "---\n",
    "description: python code for networks course\n",
    "output-file: index.html\n",
    "title: networks\n",
    "\n",
    "---\n",
    "\n"
   ]
  },
  {
   "cell_type": "code",
   "execution_count": null,
   "metadata": {},
   "outputs": [],
   "source": [
    "#| hide\n",
    "from networks.core import *"
   ]
  },
  {
   "cell_type": "markdown",
   "metadata": {},
   "source": [
    "This file will become your README and also the index of your documentation."
   ]
  },
  {
   "cell_type": "markdown",
   "metadata": {},
   "source": [
    "## Developer Guide"
   ]
  },
  {
   "cell_type": "markdown",
   "metadata": {},
   "source": [
    "If you are new to using `nbdev` here are some useful pointers to get you started."
   ]
  },
  {
   "cell_type": "markdown",
   "metadata": {},
   "source": [
    "### Install networks in Development mode"
   ]
  },
  {
   "cell_type": "markdown",
   "metadata": {},
   "source": [
    "```sh\n",
    "# make sure networks package is installed in development mode\n",
    "$ pip install -e .\n",
    "# but prefer\n",
    "\n",
    "# make changes under nbs/ directory\n",
    "# ...\n",
    "\n",
    "# compile to have changes apply to networks\n",
    "$ nbdev_prepare\n",
    "```"
   ]
  },
  {
   "cell_type": "markdown",
   "metadata": {},
   "source": [
    "## Usage"
   ]
  },
  {
   "cell_type": "markdown",
   "metadata": {},
   "source": [
    "### Installation"
   ]
  },
  {
   "cell_type": "markdown",
   "metadata": {},
   "source": [
    "Install latest from the GitHub [repository][repo]:\n",
    "\n",
    "```sh\n",
    "$ pip install git+https://github.com/flupppi/networks.git\n",
    "```\n",
    "\n",
    "or from [conda][conda]\n",
    "\n",
    "```sh\n",
    "$ conda install -c flupppi networks\n",
    "```\n",
    "\n",
    "or from [pypi][pypi]\n",
    "\n",
    "\n",
    "```sh\n",
    "$ pip install networks\n",
    "```\n",
    "\n",
    "\n",
    "[repo]: https://github.com/flupppi/networks\n",
    "[docs]: https://flupppi.github.io/networks/\n",
    "[pypi]: https://pypi.org/project/networks/\n",
    "[conda]: https://anaconda.org/flupppi/networks"
   ]
  },
  {
   "cell_type": "markdown",
   "metadata": {},
   "source": [
    "### Documentation"
   ]
  },
  {
   "cell_type": "markdown",
   "metadata": {},
   "source": [
    "Documentation can be found hosted on this GitHub [repository][repo]'s [pages][docs]. Additionally you can find package manager specific guidelines on [conda][conda] and [pypi][pypi] respectively.\n",
    "\n",
    "[repo]: https://github.com/flupppi/networks\n",
    "[docs]: https://flupppi.github.io/networks/\n",
    "[pypi]: https://pypi.org/project/networks/\n",
    "[conda]: https://anaconda.org/flupppi/networks\n"
   ]
  },
  {
   "cell_type": "markdown",
   "metadata": {},
   "source": [
    "### Table of Contents\n",
    "* Lecture 1\n",
    "    * Networks, Networks in the News\n",
    "    * Applications: Biological, Sociology, Human Interaction and Relations, Infrastructure, Criminalistics\n",
    "    * Criminalistics Example: Co-Offender Analysis\n",
    "    * Typical Network Analysis Tasks, Network Analysis Key Questions\n",
    "    * Example for Generating Networks\n",
    "    * Fundamental Network Terminology, Adjacency Matrix, Directed-, Weighted-, Multivariate-Networks\n",
    "    * Network Categories: semantic=(Biological, Technological, Social, Information), structural=(Power-Law, Scale-free, Hierarchical, Small-World,...)\n",
    "    * Interaction in Netwoks: Multilayer, Multiplex\n",
    "    * Network Analysis Lifecycle\n",
    "    * Network Analysis Strength of Weak Ties\n",
    "* Lecture 2\n",
    "    * Simple measures on Graphs: Size, Density, Importance(Cut Vertex, Degree, Global/Local), Node Connectivity, Distance, Centrality\n",
    "    * Network Properties\n",
    "\n",
    "* Lecture 3\n",
    "\n",
    "* Lecture 4\n",
    "* Lecture 5\n",
    "* Lecture 6\n",
    "* Lecture 7"
   ]
  },
  {
   "cell_type": "markdown",
   "metadata": {},
   "source": [
    "## How to use"
   ]
  },
  {
   "cell_type": "markdown",
   "metadata": {},
   "source": "Fill me in please! Don't forget code examples:"
  },
  {
   "cell_type": "code",
   "execution_count": null,
   "metadata": {},
   "outputs": [
    {
     "data": {
      "text/plain": [
       "2"
      ]
     },
     "execution_count": null,
     "metadata": {},
     "output_type": "execute_result"
    }
   ],
   "source": "1+1"
  },
  {
   "cell_type": "code",
   "execution_count": null,
   "metadata": {},
   "outputs": [],
   "source": ""
  }
 ],
 "metadata": {
  "kernelspec": {
   "display_name": "python3",
   "language": "python",
   "name": "python3"
  }
 },
 "nbformat": 4,
 "nbformat_minor": 4
}
