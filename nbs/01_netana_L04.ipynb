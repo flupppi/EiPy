{
 "cells": [
  {
   "cell_type": "code",
   "execution_count": null,
   "id": "45c78d2571cbda98",
   "metadata": {},
   "outputs": [],
   "source": "#| default_exp netana_L04"
  },
  {
   "cell_type": "code",
   "execution_count": null,
   "id": "ca92e78e0f0d9cee",
   "metadata": {},
   "outputs": [],
   "source": [
    "\n",
    "\n",
    "#| hide\n",
    "from nbdev.showdoc import *"
   ]
  },
  {
   "cell_type": "markdown",
   "id": "5c5c35ca80e8527e",
   "metadata": {},
   "source": "# Lecture 04"
  },
  {
   "cell_type": "code",
   "execution_count": null,
   "id": "4eacdba5bc49f764",
   "metadata": {},
   "outputs": [],
   "source": [
    "\n",
    "#| hide\n",
    "import nbdev;\n",
    "\n",
    "nbdev.nbdev_export()"
   ]
  }
 ],
 "metadata": {},
 "nbformat": 5,
 "nbformat_minor": 9
}
