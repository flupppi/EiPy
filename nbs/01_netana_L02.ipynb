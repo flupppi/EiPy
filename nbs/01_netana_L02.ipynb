{
 "cells": [
  {
   "cell_type": "code",
   "execution_count": null,
   "id": "5c6aff1e3d57a9ec",
   "metadata": {},
   "outputs": [],
   "source": "#| default_exp netana_L02"
  },
  {
   "cell_type": "code",
   "execution_count": null,
   "id": "3f1aee70e2b8db5f",
   "metadata": {},
   "outputs": [],
   "source": [
    "\n",
    "#| hide\n",
    "from nbdev.showdoc import *"
   ]
  },
  {
   "cell_type": "markdown",
   "id": "304b2e24783e01b",
   "metadata": {},
   "source": "# Lecture 02"
  },
  {
   "cell_type": "code",
   "execution_count": null,
   "id": "c423dc6471c373b2",
   "metadata": {},
   "outputs": [],
   "source": [
    "\n",
    "#| hide\n",
    "import nbdev;nbdev.nbdev_export()"
   ]
  }
 ],
 "metadata": {},
 "nbformat": 5,
 "nbformat_minor": 9
}
